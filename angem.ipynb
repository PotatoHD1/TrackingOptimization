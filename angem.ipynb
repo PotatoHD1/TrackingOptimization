{
 "cells": [
  {
   "cell_type": "code",
   "execution_count": 28,
   "metadata": {
    "collapsed": true
   },
   "outputs": [],
   "source": [
    "from sympy import *\n",
    "init_printing()\n",
    "%matplotlib inline"
   ]
  },
  {
   "cell_type": "code",
   "execution_count": 29,
   "outputs": [],
   "source": [
    "var('x y a')\n",
    "f = 25*x**2+10*x*y+y**2-1"
   ],
   "metadata": {
    "collapsed": false,
    "pycharm": {
     "name": "#%%\n"
    }
   }
  },
  {
   "cell_type": "code",
   "execution_count": 30,
   "outputs": [
    {
     "data": {
      "text/plain": "                     2                                                        \n(x⋅sin(a) + y⋅cos(a))  + 10⋅(x⋅sin(a) + y⋅cos(a))⋅(x⋅cos(a) - (x⋅sin(a) + y⋅co\n\n                                                            2    \ns(a))⋅sin(a)) + 25⋅(x⋅cos(a) - (x⋅sin(a) + y⋅cos(a))⋅sin(a))  - 1",
      "image/png": "[encoded data removed]",
      "text/latex": "$\\displaystyle \\left(x \\sin{\\left(a \\right)} + y \\cos{\\left(a \\right)}\\right)^{2} + 10 \\left(x \\sin{\\left(a \\right)} + y \\cos{\\left(a \\right)}\\right) \\left(x \\cos{\\left(a \\right)} - \\left(x \\sin{\\left(a \\right)} + y \\cos{\\left(a \\right)}\\right) \\sin{\\left(a \\right)}\\right) + 25 \\left(x \\cos{\\left(a \\right)} - \\left(x \\sin{\\left(a \\right)} + y \\cos{\\left(a \\right)}\\right) \\sin{\\left(a \\right)}\\right)^{2} - 1$"
     },
     "execution_count": 30,
     "metadata": {},
     "output_type": "execute_result"
    }
   ],
   "source": [
    "f = f.subs({x: x*cos(a)-y*sin(a), y: x*sin(a)+y*cos(a)})\n",
    "f"
   ],
   "metadata": {
    "collapsed": false,
    "pycharm": {
     "name": "#%%\n"
    }
   }
  },
  {
   "cell_type": "code",
   "execution_count": 31,
   "outputs": [
    {
     "data": {
      "text/plain": "    2    4          2    3          2    2              2    2          2     \n25⋅x ⋅sin (a) - 10⋅x ⋅sin (a) - 50⋅x ⋅sin (a)⋅cos(a) + x ⋅sin (a) + 10⋅x ⋅sin(\n\n                2    2                3                       2               \na)⋅cos(a) + 25⋅x ⋅cos (a) + 50⋅x⋅y⋅sin (a)⋅cos(a) - 20⋅x⋅y⋅sin (a)⋅cos(a) - 50\n\n               2                                      2          2    2       \n⋅x⋅y⋅sin(a)⋅cos (a) + 2⋅x⋅y⋅sin(a)⋅cos(a) + 10⋅x⋅y⋅cos (a) + 25⋅y ⋅sin (a)⋅cos\n\n2          2           2       2    2       \n (a) - 10⋅y ⋅sin(a)⋅cos (a) + y ⋅cos (a) - 1",
      "image/png": "[encoded data removed]",
      "text/latex": "$\\displaystyle 25 x^{2} \\sin^{4}{\\left(a \\right)} - 10 x^{2} \\sin^{3}{\\left(a \\right)} - 50 x^{2} \\sin^{2}{\\left(a \\right)} \\cos{\\left(a \\right)} + x^{2} \\sin^{2}{\\left(a \\right)} + 10 x^{2} \\sin{\\left(a \\right)} \\cos{\\left(a \\right)} + 25 x^{2} \\cos^{2}{\\left(a \\right)} + 50 x y \\sin^{3}{\\left(a \\right)} \\cos{\\left(a \\right)} - 20 x y \\sin^{2}{\\left(a \\right)} \\cos{\\left(a \\right)} - 50 x y \\sin{\\left(a \\right)} \\cos^{2}{\\left(a \\right)} + 2 x y \\sin{\\left(a \\right)} \\cos{\\left(a \\right)} + 10 x y \\cos^{2}{\\left(a \\right)} + 25 y^{2} \\sin^{2}{\\left(a \\right)} \\cos^{2}{\\left(a \\right)} - 10 y^{2} \\sin{\\left(a \\right)} \\cos^{2}{\\left(a \\right)} + y^{2} \\cos^{2}{\\left(a \\right)} - 1$"
     },
     "execution_count": 31,
     "metadata": {},
     "output_type": "execute_result"
    }
   ],
   "source": [
    "f = expand(f)\n",
    "f"
   ],
   "metadata": {
    "collapsed": false,
    "pycharm": {
     "name": "#%%\n"
    }
   }
  },
  {
   "cell_type": "code",
   "execution_count": 32,
   "outputs": [],
   "source": [
    "# f1 = f.subs({a**2: 0, b**2: 0, a*x1: c, c*b: d, b*x1: e})\n",
    "# f2 = f.subs({a: 0, b:0, x: 0, y: 0})\n",
    "# f1 -= f2\n",
    "# f3 = f.subs({a**2: 0, b**2: 0, a*y1: c, c*b: d, b*y1: e, b: 0, a: 0}) - f2\n",
    "# f1 = f.subs({})\n"
   ],
   "metadata": {
    "collapsed": false,
    "pycharm": {
     "name": "#%%\n"
    }
   }
  }
 ],
 "metadata": {
  "kernelspec": {
   "display_name": "Python 3",
   "language": "python",
   "name": "python3"
  },
  "language_info": {
   "codemirror_mode": {
    "name": "ipython",
    "version": 2
   },
   "file_extension": ".py",
   "mimetype": "text/x-python",
   "name": "python",
   "nbconvert_exporter": "python",
   "pygments_lexer": "ipython2",
   "version": "2.7.6"
  }
 },
 "nbformat": 4,
 "nbformat_minor": 0
}